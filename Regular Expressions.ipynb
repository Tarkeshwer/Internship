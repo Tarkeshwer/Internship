{
 "cells": [
  {
   "cell_type": "markdown",
   "id": "9a5a804f",
   "metadata": {},
   "source": [
    "### Question 1- Write a Python program to replace all occurrences of a space, comma, or dot with a colon.\n",
    "**Sample Text-** 'Python Exercises, PHP exercises.'  \n",
    "**Expected Output:** Python:Exercises::PHP:exercises:\n"
   ]
  },
  {
   "cell_type": "code",
   "execution_count": 1,
   "id": "1ebce84d",
   "metadata": {},
   "outputs": [],
   "source": [
    "import re"
   ]
  },
  {
   "cell_type": "code",
   "execution_count": 8,
   "id": "14dabadc",
   "metadata": {},
   "outputs": [
    {
     "name": "stdout",
     "output_type": "stream",
     "text": [
      "Result: Python:Exercises::PHP:exercises:\n"
     ]
    }
   ],
   "source": [
    "def replace_with_colon(sample_text):\n",
    "    chars_to_replace = [' ', ',', '.']\n",
    "    for char in chars_to_replace:\n",
    "        sample_text = sample_text.replace(char, ':')\n",
    "    return sample_text\n",
    "\n",
    "sample_text = 'Python Exercises, PHP exercises.'\n",
    "result = replace_with_colon(sample_text)\n",
    "print(\"Result:\", result)"
   ]
  },
  {
   "cell_type": "markdown",
   "id": "01086768",
   "metadata": {},
   "source": [
    "### Question 2-  Write a Python program to find all words starting with 'a' or 'e' in a given string."
   ]
  },
  {
   "cell_type": "code",
   "execution_count": 12,
   "id": "5a818820",
   "metadata": {},
   "outputs": [
    {
     "name": "stdout",
     "output_type": "stream",
     "text": [
      "words_with_a_or_e: ['program']\n"
     ]
    }
   ],
   "source": [
    "def find_all_words_starting_with_a_or_e(input_string):\n",
    "    pattern = r'\\b[ApnEo]\\w*\\b'\n",
    "    words_with_a_or_e = re.findall(pattern, input_string)\n",
    "    return words_with_a_or_e\n",
    "\n",
    "if __name__ == \"__main__\":\n",
    "    input_string = 'Write a Python program to find all words starting.'\n",
    "    words = find_all_words_starting_with_a_or_e(input_string)\n",
    "    print('words_with_a_or_e:', words)"
   ]
  },
  {
   "cell_type": "markdown",
   "id": "91a794fe",
   "metadata": {},
   "source": [
    "### Question 3- Create a function in python to find all words that are at least 4 characters long in a string. The use of the re.compile() method is mandatory."
   ]
  },
  {
   "cell_type": "code",
   "execution_count": 46,
   "id": "6e679564",
   "metadata": {},
   "outputs": [
    {
     "name": "stdout",
     "output_type": "stream",
     "text": [
      "Words at least 4 characters long: ['quick', 'brown', 'jumps', 'over', 'lazy']\n"
     ]
    }
   ],
   "source": [
    "def find_all_words(input_string, min_length=4):\n",
    "    pattern = re.compile(r'\\b\\w{' + str(min_length) + r',}\\b')\n",
    "    words = pattern.findall(input_string)\n",
    "    return words\n",
    "\n",
    "if __name__ == \"__main__\":\n",
    "    input_string = \"The quick brown fox jumps over the lazy dog.\"\n",
    "    words = find_all_words(input_string)\n",
    "    print(\"Words at least 4 characters long:\", words)"
   ]
  },
  {
   "cell_type": "markdown",
   "id": "6f614215",
   "metadata": {},
   "source": [
    "### Question 4- Create a function in python to find all three, four, and five character words in a string. The use of the re.compile() method is mandatory."
   ]
  },
  {
   "cell_type": "code",
   "execution_count": 47,
   "id": "4667938f",
   "metadata": {},
   "outputs": [
    {
     "name": "stdout",
     "output_type": "stream",
     "text": [
      "Words of lengths 3, 4, and 5 characters: []\n"
     ]
    }
   ],
   "source": [
    "def find_word_lengths(input_string, lengths):\n",
    "    pattern = re.compile(r'\\b\\w{' + ','.join(map(str, lengths)) + r'}\\b')\n",
    "    words = pattern.findall(input_string)\n",
    "    return words\n",
    "\n",
    "if __name__ == \"__main__\":\n",
    "    input_string = \"The cat is sitting on the mat.\"\n",
    "    find_length = [3, 4, 5]\n",
    "    words = find_word_lengths(input_string, find_length)\n",
    "    print(\"Words of lengths 3, 4, and 5 characters:\", words)"
   ]
  },
  {
   "cell_type": "markdown",
   "id": "516178dc",
   "metadata": {},
   "source": [
    "### Question 5- Create a function in Python to remove the parenthesis in a list of strings. The use of the re.compile() method is mandatory.\n",
    "**Sample Text:** [\"example (.com)\", \"hr@fliprobo (.com)\", \"github (.com)\", \"Hello (Data Science World)\", \"Data (Scientist)\"]  \n",
    "**Expected Output:**\n",
    "- example.com\n",
    "- hr@fliprobo.com\n",
    "- github.com\n",
    "- Hello Data Science World\n",
    "- Data Scientist\n"
   ]
  },
  {
   "cell_type": "code",
   "execution_count": 15,
   "id": "f01ed148",
   "metadata": {},
   "outputs": [
    {
     "name": "stdout",
     "output_type": "stream",
     "text": [
      "example\n",
      "hr@fliprobo\n",
      "github\n",
      "Hello\n",
      "Data\n"
     ]
    }
   ],
   "source": [
    "def remove_parentheses(strings_list):\n",
    "    pattern = re.compile(r'\\([^)]*\\)')\n",
    "    result = []\n",
    "\n",
    "    for string in strings_list:\n",
    "        modified_string = pattern.sub('', string)\n",
    "        result.append(modified_string.strip())\n",
    "\n",
    "    return result\n",
    "\n",
    "if __name__ == \"__main__\":\n",
    "    sample_text = [\"example (.com)\", \"hr@fliprobo (.com)\", \"github (.com)\", \"Hello (Data Science World)\", \"Data (Scientist)\"]\n",
    "    output = remove_parentheses(sample_text)\n",
    "    for item in output:\n",
    "        print(item)"
   ]
  },
  {
   "cell_type": "markdown",
   "id": "1f874c5e",
   "metadata": {},
   "source": [
    "### Question 6- Write a python program to remove the parenthesis area from the text stored in the text file using Regular Expression.\n",
    "**Sample Text:** [\"example (.com)\", \"hr@fliprobo (.com)\", \"github (.com)\", \"Hello (Data Science World)\", \"Data (Scientist)\"]  \n",
    "**Expected Output:** [\"example\", \"hr@fliprobo\", \"github\", \"Hello\", \"Data\"]  \n",
    "**Note-** Store given sample text in the text file and then to remove the parenthesis area from the text.\n"
   ]
  },
  {
   "cell_type": "code",
   "execution_count": 74,
   "id": "4efa4148",
   "metadata": {},
   "outputs": [
    {
     "ename": "IndentationError",
     "evalue": "unexpected indent (1450528947.py, line 6)",
     "output_type": "error",
     "traceback": [
      "\u001b[1;36m  Cell \u001b[1;32mIn[74], line 6\u001b[1;36m\u001b[0m\n\u001b[1;33m    result = []\u001b[0m\n\u001b[1;37m    ^\u001b[0m\n\u001b[1;31mIndentationError\u001b[0m\u001b[1;31m:\u001b[0m unexpected indent\n"
     ]
    }
   ],
   "source": [
    "def remove_parentheses(input_file, output_file):\n",
    "    with open(input_file, 'r') as file:\n",
    "        lines = file.readlines()\n",
    "\n",
    "pattern = re.compile(r'\\([^)]*\\)')    \n",
    "    result = []\n",
    "\n",
    "for line in lines:\n",
    "        modified_line = pattern.sub('', line)\n",
    "        result.append(modified_line.strip())\n",
    "\n",
    "with open(output_file, 'w') as file:\n",
    "        for item in result:\n",
    "            file.write(\"%s\\n\" % item)\n",
    "\n",
    "if __name__ == \"__main__\":\n",
    "    input_file = \"input.txt\"\n",
    "    output_file = \"output.txt\"\n",
    "    remove_parentheses(input_file, output_file)\n",
    "    print(\"Parentheses removed and saved in\", output_file)"
   ]
  },
  {
   "cell_type": "markdown",
   "id": "ca466ec3",
   "metadata": {},
   "source": [
    "### Question 7- Write a regular expression in Python to split a string into uppercase letters.\n",
    "**Sample text:** “ImportanceOfRegularExpressionsInPython”  \n",
    "**Expected Output:** [‘Importance’, ‘Of’, ‘Regular’, ‘Expression’, ‘In’, ‘Python’]\n"
   ]
  },
  {
   "cell_type": "code",
   "execution_count": 75,
   "id": "45e0da23",
   "metadata": {},
   "outputs": [
    {
     "name": "stdout",
     "output_type": "stream",
     "text": [
      "['Importance', 'Of', 'Regular', 'Expressions', 'In', 'Python']\n"
     ]
    }
   ],
   "source": [
    "def split(text):\n",
    "    words = re.findall('[A-Z][a-z]*', text)\n",
    "    return words\n",
    "\n",
    "if __name__ == \"__main__\":\n",
    "    sample_text = \"ImportanceOfRegularExpressionsInPython\"\n",
    "    result = split(sample_text)\n",
    "    print(result)"
   ]
  },
  {
   "cell_type": "markdown",
   "id": "7d6c8b96",
   "metadata": {},
   "source": [
    "### Question 8- Create a function in python to insert spaces between words starting with numbers.\n",
    "**Sample Text:** “RegularExpression1IsAn2ImportantTopic3InPython\"  \n",
    "**Expected Output:** RegularExpression 1IsAn 2ImportantTopic 3InPython\n"
   ]
  },
  {
   "cell_type": "code",
   "execution_count": 76,
   "id": "1a8b1581",
   "metadata": {},
   "outputs": [
    {
     "name": "stdout",
     "output_type": "stream",
     "text": [
      "RegularExpression1 IsAn2 ImportantTopic3 InPython\n"
     ]
    }
   ],
   "source": [
    "def insert_spaces(text):\n",
    "    pattern = re.compile(r'(\\d)([A-Za-z]+)')\n",
    "    result = pattern.sub(r'\\1 \\2', text)\n",
    "    return result\n",
    "\n",
    "if __name__ == \"__main__\":\n",
    "    sample_text = \"RegularExpression1IsAn2ImportantTopic3InPython\"\n",
    "    result = insert_spaces(sample_text)\n",
    "    print(result)"
   ]
  },
  {
   "cell_type": "markdown",
   "id": "db222782",
   "metadata": {},
   "source": [
    "### Question 9- Create a function in python to insert spaces between words starting with capital letters or with numbers.\n",
    "**Sample Text:** “RegularExpression1IsAn2ImportantTopic3InPython\"  \n",
    "**Expected Output:**  RegularExpression 1 IsAn 2 ImportantTopic 3 InPython\n"
   ]
  },
  {
   "cell_type": "code",
   "execution_count": 21,
   "id": "d2da39a4",
   "metadata": {},
   "outputs": [
    {
     "name": "stdout",
     "output_type": "stream",
     "text": [
      "RegularExpression1 IsAn2 ImportantTopic3 InPython\n"
     ]
    }
   ],
   "source": [
    "def insert_spaces_for_capitals_and_numbers(text):\n",
    "    pattern = re.compile(r'(?<=[A-Z0-9])(?=[A-Z])|(?<=[A-Z])(?=\\d)')\n",
    "    result = pattern.sub(' ', text)\n",
    "    return result\n",
    "\n",
    "if __name__ == \"__main__\":\n",
    "    sample_text = \"RegularExpression1IsAn2ImportantTopic3InPython\"\n",
    "    result = insert_spaces_for_capitals_and_numbers(sample_text)\n",
    "    print(result)"
   ]
  },
  {
   "cell_type": "markdown",
   "id": "7649da14",
   "metadata": {},
   "source": [
    "### Question 10- Write a python program to extract email address from the text stored in the text file using Regular Expression.\n",
    "**Sample Text-** Hello my name is Data Science and my email address is xyz@domain.com and alternate email address is xyz.abc@sdomain.domain.com.   \n",
    "Please contact us at hr@fliprobo.com for further information.   \n",
    "**Expected Output:** \n",
    "['xyz@domain.com', 'xyz.abc@sdomain.domain.com']\n",
    "['hr@fliprobo.com']\n",
    "\n",
    "**Note-** Store given sample text in the text file and then extract email addresses.\n"
   ]
  },
  {
   "cell_type": "code",
   "execution_count": 89,
   "id": "ebd8916f",
   "metadata": {},
   "outputs": [
    {
     "ename": "FileNotFoundError",
     "evalue": "[Errno 2] No such file or directory: 'input.txt'",
     "output_type": "error",
     "traceback": [
      "\u001b[1;31m---------------------------------------------------------------------------\u001b[0m",
      "\u001b[1;31mFileNotFoundError\u001b[0m                         Traceback (most recent call last)",
      "Cell \u001b[1;32mIn[89], line 12\u001b[0m\n\u001b[0;32m     10\u001b[0m \u001b[38;5;28;01mif\u001b[39;00m \u001b[38;5;18m__name__\u001b[39m \u001b[38;5;241m==\u001b[39m \u001b[38;5;124m\"\u001b[39m\u001b[38;5;124m__main__\u001b[39m\u001b[38;5;124m\"\u001b[39m:\n\u001b[0;32m     11\u001b[0m     input_file \u001b[38;5;241m=\u001b[39m \u001b[38;5;124m\"\u001b[39m\u001b[38;5;124minput.txt\u001b[39m\u001b[38;5;124m\"\u001b[39m\n\u001b[1;32m---> 12\u001b[0m     email_addresses \u001b[38;5;241m=\u001b[39m \u001b[43mextract_emails\u001b[49m\u001b[43m(\u001b[49m\u001b[43minput_file\u001b[49m\u001b[43m)\u001b[49m\n\u001b[0;32m     14\u001b[0m     primary_emails \u001b[38;5;241m=\u001b[39m []\n\u001b[0;32m     15\u001b[0m     alternate_emails \u001b[38;5;241m=\u001b[39m []\n",
      "Cell \u001b[1;32mIn[89], line 2\u001b[0m, in \u001b[0;36mextract_emails\u001b[1;34m(input_file)\u001b[0m\n\u001b[0;32m      1\u001b[0m \u001b[38;5;28;01mdef\u001b[39;00m \u001b[38;5;21mextract_emails\u001b[39m(input_file):\n\u001b[1;32m----> 2\u001b[0m     \u001b[38;5;28;01mwith\u001b[39;00m \u001b[38;5;28;43mopen\u001b[39;49m\u001b[43m(\u001b[49m\u001b[43minput_file\u001b[49m\u001b[43m,\u001b[49m\u001b[43m \u001b[49m\u001b[38;5;124;43m'\u001b[39;49m\u001b[38;5;124;43mr\u001b[39;49m\u001b[38;5;124;43m'\u001b[39;49m\u001b[43m)\u001b[49m \u001b[38;5;28;01mas\u001b[39;00m file:\n\u001b[0;32m      3\u001b[0m         text \u001b[38;5;241m=\u001b[39m file\u001b[38;5;241m.\u001b[39mread()\n\u001b[0;32m      5\u001b[0m     email_pattern \u001b[38;5;241m=\u001b[39m re\u001b[38;5;241m.\u001b[39mcompile(\u001b[38;5;124mr\u001b[39m\u001b[38;5;124m'\u001b[39m\u001b[38;5;124m\\\u001b[39m\u001b[38;5;124mb[A-Za-z0-9._\u001b[39m\u001b[38;5;124m%\u001b[39m\u001b[38;5;124m+-]+@[A-Za-z0-9.-]+\u001b[39m\u001b[38;5;124m\\\u001b[39m\u001b[38;5;124m.[A-Z|a-z]\u001b[39m\u001b[38;5;124m{\u001b[39m\u001b[38;5;124m2,}\u001b[39m\u001b[38;5;124m\\\u001b[39m\u001b[38;5;124mb\u001b[39m\u001b[38;5;124m'\u001b[39m)\n",
      "File \u001b[1;32mC:\\ProgramData\\anaconda3\\lib\\site-packages\\IPython\\core\\interactiveshell.py:282\u001b[0m, in \u001b[0;36m_modified_open\u001b[1;34m(file, *args, **kwargs)\u001b[0m\n\u001b[0;32m    275\u001b[0m \u001b[38;5;28;01mif\u001b[39;00m file \u001b[38;5;129;01min\u001b[39;00m {\u001b[38;5;241m0\u001b[39m, \u001b[38;5;241m1\u001b[39m, \u001b[38;5;241m2\u001b[39m}:\n\u001b[0;32m    276\u001b[0m     \u001b[38;5;28;01mraise\u001b[39;00m \u001b[38;5;167;01mValueError\u001b[39;00m(\n\u001b[0;32m    277\u001b[0m         \u001b[38;5;124mf\u001b[39m\u001b[38;5;124m\"\u001b[39m\u001b[38;5;124mIPython won\u001b[39m\u001b[38;5;124m'\u001b[39m\u001b[38;5;124mt let you open fd=\u001b[39m\u001b[38;5;132;01m{\u001b[39;00mfile\u001b[38;5;132;01m}\u001b[39;00m\u001b[38;5;124m by default \u001b[39m\u001b[38;5;124m\"\u001b[39m\n\u001b[0;32m    278\u001b[0m         \u001b[38;5;124m\"\u001b[39m\u001b[38;5;124mas it is likely to crash IPython. If you know what you are doing, \u001b[39m\u001b[38;5;124m\"\u001b[39m\n\u001b[0;32m    279\u001b[0m         \u001b[38;5;124m\"\u001b[39m\u001b[38;5;124myou can use builtins\u001b[39m\u001b[38;5;124m'\u001b[39m\u001b[38;5;124m open.\u001b[39m\u001b[38;5;124m\"\u001b[39m\n\u001b[0;32m    280\u001b[0m     )\n\u001b[1;32m--> 282\u001b[0m \u001b[38;5;28;01mreturn\u001b[39;00m io_open(file, \u001b[38;5;241m*\u001b[39margs, \u001b[38;5;241m*\u001b[39m\u001b[38;5;241m*\u001b[39mkwargs)\n",
      "\u001b[1;31mFileNotFoundError\u001b[0m: [Errno 2] No such file or directory: 'input.txt'"
     ]
    }
   ],
   "source": [
    "def extract_emails(input_file):\n",
    "    with open(input_file, 'r') as file:\n",
    "        text = file.read()\n",
    "\n",
    "    email_pattern = re.compile(r'\\b[A-Za-z0-9._%+-]+@[A-Za-z0-9.-]+\\.[A-Z|a-z]{2,}\\b')\n",
    "    email_addresses = email_pattern.findall(text)\n",
    "\n",
    "    return email_addresses\n",
    "\n",
    "if __name__ == \"__main__\":\n",
    "    input_file = \"input.txt\"\n",
    "    email_addresses = extract_emails(input_file)\n",
    "\n",
    "    primary_emails = []\n",
    "    alternate_emails = []\n",
    "    for email in email_addresses:\n",
    "        if 'hr@fliprobo.com' in email:\n",
    "            primary_emails.append(email)\n",
    "    else:\n",
    "        alternate_emails.append(email)\n",
    "\n",
    "    print(\"Primary Email Addresses:\")\n",
    "    print(primary_emails)\n",
    "\n",
    "    print(\"\\nAlternate Email Addresses:\")\n",
    "    print(alternate_emails)"
   ]
  },
  {
   "cell_type": "markdown",
   "id": "c3e550a5",
   "metadata": {},
   "source": [
    "### Question 11- Write a Python program to match a string that contains only upper and lowercase letters, numbers, and underscores."
   ]
  },
  {
   "cell_type": "code",
   "execution_count": 24,
   "id": "cf0daa7c",
   "metadata": {},
   "outputs": [
    {
     "name": "stdout",
     "output_type": "stream",
     "text": [
      "The string contains only upper and lowercase letters, numbers, and underscores.\n"
     ]
    }
   ],
   "source": [
    "def is_valid_string(input_string):\n",
    "    pattern = re.compile(r'^[a-zA-Z0-9_]+$')\n",
    "    match = pattern.match(input_string)\n",
    "    return bool(match)\n",
    "\n",
    "if __name__ == \"__main__\":\n",
    "    input_string = \"Hello123_World\"\n",
    "    result = is_valid_string(input_string)\n",
    "    if result:\n",
    "        print(\"The string contains only upper and lowercase letters, numbers, and underscores.\")\n",
    "    else:\n",
    "        print(\"The string contains invalid characters.\")"
   ]
  },
  {
   "cell_type": "markdown",
   "id": "123290be",
   "metadata": {},
   "source": [
    "### Question 12- Write a Python program where a string will start with a specific number. "
   ]
  },
  {
   "cell_type": "code",
   "execution_count": 26,
   "id": "2e46accb",
   "metadata": {},
   "outputs": [
    {
     "name": "stdout",
     "output_type": "stream",
     "text": [
      "Enter a string: Aaryan\n",
      "Enter the specific number: 3\n",
      "The string does not start with the specific number.\n"
     ]
    }
   ],
   "source": [
    "def string_starts_with_number(input_string, number):\n",
    "    return input_string.startswith(str(number))\n",
    "\n",
    "if __name__ == \"__main__\":\n",
    "    input_string = input(\"Enter a string: \")\n",
    "    specific_number = input(\"Enter the specific number: \")\n",
    "\n",
    "    if string_starts_with_number(input_string, specific_number):\n",
    "        print(\"The string starts with the specific number.\")\n",
    "    else:\n",
    "        print(\"The string does not start with the specific number.\")"
   ]
  },
  {
   "cell_type": "markdown",
   "id": "f215cda6",
   "metadata": {},
   "source": [
    "### Question 13- Write a Python program to remove leading zeros from an IP address"
   ]
  },
  {
   "cell_type": "code",
   "execution_count": 27,
   "id": "938c0159",
   "metadata": {},
   "outputs": [
    {
     "name": "stdout",
     "output_type": "stream",
     "text": [
      "Enter an IP address: 198.001.68.0\n",
      "IP address with leading zeros removed: 198.1.68.0\n"
     ]
    }
   ],
   "source": [
    "def remove_leading_zeros(ip_address):\n",
    "    octets = ip_address.split('.')\n",
    "    cleaned_octets = [str(int(octet)) for octet in octets]\n",
    "    cleaned_ip_address = '.'.join(cleaned_octets)\n",
    "    return cleaned_ip_address\n",
    "\n",
    "if __name__ == \"__main__\":\n",
    "    ip_address = input(\"Enter an IP address: \")\n",
    "    cleaned_ip_address = remove_leading_zeros(ip_address)\n",
    "    print(\"IP address with leading zeros removed:\", cleaned_ip_address)"
   ]
  },
  {
   "cell_type": "markdown",
   "id": "f0f607ac",
   "metadata": {},
   "source": [
    "### Question 14- Write a regular expression in python to match a date string in the form of Month name followed by day number and year stored in a text file.\n",
    "**Sample text :**  ' On August 15th 1947 that India was declared independent from British colonialism, and the reins of control were handed over to the leaders of the Country’.  \n",
    "**Expected Output-** August 15th 1947  \n",
    "**Note-** Store given sample text in the text file and then extract the date string asked format.\n"
   ]
  },
  {
   "cell_type": "code",
   "execution_count": 91,
   "id": "5fcfffa3",
   "metadata": {},
   "outputs": [
    {
     "ename": "FileNotFoundError",
     "evalue": "[Errno 2] No such file or directory: 'input.txt'",
     "output_type": "error",
     "traceback": [
      "\u001b[1;31m---------------------------------------------------------------------------\u001b[0m",
      "\u001b[1;31mFileNotFoundError\u001b[0m                         Traceback (most recent call last)",
      "Cell \u001b[1;32mIn[91], line 15\u001b[0m\n\u001b[0;32m     13\u001b[0m \u001b[38;5;28;01mif\u001b[39;00m \u001b[38;5;18m__name__\u001b[39m \u001b[38;5;241m==\u001b[39m \u001b[38;5;124m\"\u001b[39m\u001b[38;5;124m__main__\u001b[39m\u001b[38;5;124m\"\u001b[39m:\n\u001b[0;32m     14\u001b[0m     input_file \u001b[38;5;241m=\u001b[39m \u001b[38;5;124m\"\u001b[39m\u001b[38;5;124minput.txt\u001b[39m\u001b[38;5;124m\"\u001b[39m\n\u001b[1;32m---> 15\u001b[0m     extracted_date \u001b[38;5;241m=\u001b[39m \u001b[43mextract_date\u001b[49m\u001b[43m(\u001b[49m\u001b[43minput_file\u001b[49m\u001b[43m)\u001b[49m\n\u001b[0;32m     17\u001b[0m     \u001b[38;5;28;01mif\u001b[39;00m extracted_date:\n\u001b[0;32m     18\u001b[0m         \u001b[38;5;28mprint\u001b[39m(\u001b[38;5;124m\"\u001b[39m\u001b[38;5;124mExtracted Date:\u001b[39m\u001b[38;5;124m\"\u001b[39m, extracted_date)\n",
      "Cell \u001b[1;32mIn[91], line 2\u001b[0m, in \u001b[0;36mextract_date\u001b[1;34m(input_file)\u001b[0m\n\u001b[0;32m      1\u001b[0m \u001b[38;5;28;01mdef\u001b[39;00m \u001b[38;5;21mextract_date\u001b[39m(input_file):\n\u001b[1;32m----> 2\u001b[0m     \u001b[38;5;28;01mwith\u001b[39;00m \u001b[38;5;28;43mopen\u001b[39;49m\u001b[43m(\u001b[49m\u001b[43minput_file\u001b[49m\u001b[43m,\u001b[49m\u001b[43m \u001b[49m\u001b[38;5;124;43m'\u001b[39;49m\u001b[38;5;124;43mr\u001b[39;49m\u001b[38;5;124;43m'\u001b[39;49m\u001b[43m)\u001b[49m \u001b[38;5;28;01mas\u001b[39;00m file:\n\u001b[0;32m      3\u001b[0m         text \u001b[38;5;241m=\u001b[39m file\u001b[38;5;241m.\u001b[39mread()\n\u001b[0;32m      5\u001b[0m     date_pattern \u001b[38;5;241m=\u001b[39m re\u001b[38;5;241m.\u001b[39mcompile(\u001b[38;5;124mr\u001b[39m\u001b[38;5;124m'\u001b[39m\u001b[38;5;124m\\\u001b[39m\u001b[38;5;124mb(?:January|February|March|April|May|June|July|August|September|October|November|December)\u001b[39m\u001b[38;5;124m\\\u001b[39m\u001b[38;5;124ms+\u001b[39m\u001b[38;5;124m\\\u001b[39m\u001b[38;5;124md\u001b[39m\u001b[38;5;124m{\u001b[39m\u001b[38;5;124m1,2}(?:st|nd|rd|th)?\u001b[39m\u001b[38;5;124m\\\u001b[39m\u001b[38;5;124ms+\u001b[39m\u001b[38;5;124m\\\u001b[39m\u001b[38;5;124md\u001b[39m\u001b[38;5;132;01m{4}\u001b[39;00m\u001b[38;5;124m\\\u001b[39m\u001b[38;5;124mb\u001b[39m\u001b[38;5;124m'\u001b[39m)\n",
      "File \u001b[1;32mC:\\ProgramData\\anaconda3\\lib\\site-packages\\IPython\\core\\interactiveshell.py:282\u001b[0m, in \u001b[0;36m_modified_open\u001b[1;34m(file, *args, **kwargs)\u001b[0m\n\u001b[0;32m    275\u001b[0m \u001b[38;5;28;01mif\u001b[39;00m file \u001b[38;5;129;01min\u001b[39;00m {\u001b[38;5;241m0\u001b[39m, \u001b[38;5;241m1\u001b[39m, \u001b[38;5;241m2\u001b[39m}:\n\u001b[0;32m    276\u001b[0m     \u001b[38;5;28;01mraise\u001b[39;00m \u001b[38;5;167;01mValueError\u001b[39;00m(\n\u001b[0;32m    277\u001b[0m         \u001b[38;5;124mf\u001b[39m\u001b[38;5;124m\"\u001b[39m\u001b[38;5;124mIPython won\u001b[39m\u001b[38;5;124m'\u001b[39m\u001b[38;5;124mt let you open fd=\u001b[39m\u001b[38;5;132;01m{\u001b[39;00mfile\u001b[38;5;132;01m}\u001b[39;00m\u001b[38;5;124m by default \u001b[39m\u001b[38;5;124m\"\u001b[39m\n\u001b[0;32m    278\u001b[0m         \u001b[38;5;124m\"\u001b[39m\u001b[38;5;124mas it is likely to crash IPython. If you know what you are doing, \u001b[39m\u001b[38;5;124m\"\u001b[39m\n\u001b[0;32m    279\u001b[0m         \u001b[38;5;124m\"\u001b[39m\u001b[38;5;124myou can use builtins\u001b[39m\u001b[38;5;124m'\u001b[39m\u001b[38;5;124m open.\u001b[39m\u001b[38;5;124m\"\u001b[39m\n\u001b[0;32m    280\u001b[0m     )\n\u001b[1;32m--> 282\u001b[0m \u001b[38;5;28;01mreturn\u001b[39;00m io_open(file, \u001b[38;5;241m*\u001b[39margs, \u001b[38;5;241m*\u001b[39m\u001b[38;5;241m*\u001b[39mkwargs)\n",
      "\u001b[1;31mFileNotFoundError\u001b[0m: [Errno 2] No such file or directory: 'input.txt'"
     ]
    }
   ],
   "source": [
    "def extract_date(input_file):\n",
    "    with open(input_file, 'r') as file:\n",
    "        text = file.read()\n",
    "\n",
    "    date_pattern = re.compile(r'\\b(?:January|February|March|April|May|June|July|August|September|October|November|December)\\s+\\d{1,2}(?:st|nd|rd|th)?\\s+\\d{4}\\b')\n",
    "    date_match = date_pattern.search(text)\n",
    "\n",
    "    if date_match:\n",
    "        return date_match.group()\n",
    "    else:\n",
    "        return None\n",
    "\n",
    "if __name__ == \"__main__\":\n",
    "    input_file = \"input.txt\"\n",
    "    extracted_date = extract_date(input_file)\n",
    "\n",
    "    if extracted_date:\n",
    "        print(\"Extracted Date:\", extracted_date)\n",
    "    else:\n",
    "        print(\"Date not found in the specified format.\")"
   ]
  },
  {
   "cell_type": "markdown",
   "id": "5f0193b9",
   "metadata": {},
   "source": [
    "### Question 15- Write a Python program to search some literals strings in a string. \n",
    "**Sample text :** 'The quick brown fox jumps over the lazy dog.'  \n",
    "**Searched words :** 'fox', 'dog', 'horse'\n"
   ]
  },
  {
   "cell_type": "code",
   "execution_count": 29,
   "id": "43db3528",
   "metadata": {},
   "outputs": [
    {
     "name": "stdout",
     "output_type": "stream",
     "text": [
      "Found words: ['fox', 'dog']\n"
     ]
    }
   ],
   "source": [
    "def search_literals(text, searched_words):\n",
    "    found_words = []\n",
    "\n",
    "    for word in searched_words:\n",
    "        if word in text:\n",
    "            found_words.append(word)\n",
    "\n",
    "    return found_words\n",
    "\n",
    "if __name__ == \"__main__\":\n",
    "    sample_text = 'The quick brown fox jumps over the lazy dog.'\n",
    "    searched_words = ['fox', 'dog', 'horse']\n",
    "\n",
    "    result = search_literals(sample_text, searched_words)\n",
    "    print(\"Found words:\", result)"
   ]
  },
  {
   "cell_type": "markdown",
   "id": "68e84a7a",
   "metadata": {},
   "source": [
    "### Question 16- Write a Python program to search a literals string in a string and also find the location within the original string where the pattern occurs\n",
    "**Sample text :** 'The quick brown fox jumps over the lazy dog.'  \n",
    "**Searched words :** 'fox'\n"
   ]
  },
  {
   "cell_type": "code",
   "execution_count": 92,
   "id": "41256bb7",
   "metadata": {},
   "outputs": [
    {
     "name": "stdout",
     "output_type": "stream",
     "text": [
      "'fox' found at locations: [16]\n"
     ]
    }
   ],
   "source": [
    "def search_location(text, searched_word):\n",
    "    found_locations = []\n",
    "\n",
    "    index = text.find(searched_word)\n",
    "    while index != -1:\n",
    "        found_locations.append(index)\n",
    "        index = text.find(searched_word, index + 1)\n",
    "\n",
    "    return found_locations\n",
    "\n",
    "if __name__ == \"__main__\":\n",
    "    sample_text = 'The quick brown fox jumps over the lazy dog.'\n",
    "    searched_word = 'fox'\n",
    "\n",
    "    result = search_location(sample_text, searched_word)\n",
    "    print(f\"'{searched_word}' found at locations:\", result)"
   ]
  },
  {
   "cell_type": "markdown",
   "id": "ba48418d",
   "metadata": {},
   "source": [
    "### Question 17- Write a Python program to find the substrings within a string.\n",
    "**Sample text :** 'Python exercises, PHP exercises, C# exercises'  \n",
    "**Pattern :** 'exercises'.\n"
   ]
  },
  {
   "cell_type": "code",
   "execution_count": 31,
   "id": "19421fc4",
   "metadata": {},
   "outputs": [
    {
     "name": "stdout",
     "output_type": "stream",
     "text": [
      "'exercises' found at locations: [7, 22, 36]\n"
     ]
    }
   ],
   "source": [
    "def find_substrings_using_find(text, pattern):\n",
    "    found_locations = []\n",
    "\n",
    "    index = text.find(pattern)\n",
    "    while index != -1:\n",
    "        found_locations.append(index)\n",
    "        index = text.find(pattern, index + 1)\n",
    "\n",
    "    return found_locations\n",
    "\n",
    "if __name__ == \"__main__\":\n",
    "    sample_text = 'Python exercises, PHP exercises, C# exercises'\n",
    "    pattern = 'exercises'\n",
    "\n",
    "    result = find_substrings_using_find(sample_text, pattern)\n",
    "    print(f\"'{pattern}' found at locations:\", result)\n"
   ]
  },
  {
   "cell_type": "markdown",
   "id": "f5c722c5",
   "metadata": {},
   "source": [
    "### Question 18- Write a Python program to find the occurrence and position of the substrings within a string."
   ]
  },
  {
   "cell_type": "code",
   "execution_count": 32,
   "id": "68c7f1fa",
   "metadata": {},
   "outputs": [
    {
     "name": "stdout",
     "output_type": "stream",
     "text": [
      "Occurrences and positions of 'exercises' within the string:\n",
      "Occurrence: 'exercises', Position: 7\n",
      "Occurrence: 'exercises', Position: 22\n",
      "Occurrence: 'exercises', Position: 36\n"
     ]
    }
   ],
   "source": [
    "import re\n",
    "\n",
    "def find_substrings_with_positions(text, pattern):\n",
    "    found_occurrences = []\n",
    "    for match in re.finditer(pattern, text):\n",
    "        found_occurrences.append((match.group(), match.start()))\n",
    "\n",
    "    return found_occurrences\n",
    "\n",
    "if __name__ == \"__main__\":\n",
    "    sample_text = 'Python exercises, PHP exercises, C# exercises'\n",
    "    pattern = 'exercises'\n",
    "\n",
    "    result = find_substrings_with_positions(sample_text, pattern)\n",
    "    print(\"Occurrences and positions of '{}' within the string:\".format(pattern))\n",
    "    for occurrence, position in result:\n",
    "        print(\"Occurrence: '{}', Position: {}\".format(occurrence, position))\n"
   ]
  },
  {
   "cell_type": "markdown",
   "id": "bed8b225",
   "metadata": {},
   "source": [
    "### Question 19- Write a Python program to convert a date of yyyy-mm-dd format to dd-mm-yyyy format."
   ]
  },
  {
   "cell_type": "code",
   "execution_count": 33,
   "id": "bf99d6e5",
   "metadata": {},
   "outputs": [
    {
     "name": "stdout",
     "output_type": "stream",
     "text": [
      "Enter a date in yyyy-mm-dd format: 2023-08-08\n",
      "Converted date: 08-08-2023\n"
     ]
    }
   ],
   "source": [
    "from datetime import datetime\n",
    "\n",
    "def convert_date_format(input_date):\n",
    "    try:\n",
    "        date_object = datetime.strptime(input_date, \"%Y-%m-%d\")\n",
    "        return date_object.strftime(\"%d-%m-%Y\")\n",
    "    except ValueError:\n",
    "        return \"Invalid date format. Please use yyyy-mm-dd.\"\n",
    "\n",
    "if __name__ == \"__main__\":\n",
    "    date_input = input(\"Enter a date in yyyy-mm-dd format: \")\n",
    "    converted_date = convert_date_format(date_input)\n",
    "    print(\"Converted date:\", converted_date)\n"
   ]
  },
  {
   "cell_type": "markdown",
   "id": "61cd2c36",
   "metadata": {},
   "source": [
    "### Question 20- Create a function in python to find all decimal numbers with a precision of 1 or 2 in a string. The use of the re.compile() method is mandatory."
   ]
  },
  {
   "cell_type": "code",
   "execution_count": 34,
   "id": "61d8ee80",
   "metadata": {},
   "outputs": [
    {
     "name": "stdout",
     "output_type": "stream",
     "text": [
      "Decimal numbers with precision of 1 or 2: ['.5', '.25', '']\n"
     ]
    }
   ],
   "source": [
    "def find_decimal_numbers_with_precision(text):\n",
    "    pattern = re.compile(r'\\b\\d+(\\.\\d{1,2})?\\b')\n",
    "    decimal_numbers = pattern.findall(text)\n",
    "    return decimal_numbers\n",
    "\n",
    "if __name__ == \"__main__\":\n",
    "    sample_text = \"The price is $10.5, the quantity is 2.25, and the discount is 15%.\"\n",
    "    decimal_numbers = find_decimal_numbers_with_precision(sample_text)\n",
    "    print(\"Decimal numbers with precision of 1 or 2:\", decimal_numbers)\n"
   ]
  },
  {
   "cell_type": "markdown",
   "id": "b8d6f08c",
   "metadata": {},
   "source": [
    "### Question 21- Write a Python program to separate and print the numbers and their position of a given string."
   ]
  },
  {
   "cell_type": "code",
   "execution_count": 35,
   "id": "b1f556cb",
   "metadata": {},
   "outputs": [
    {
     "name": "stdout",
     "output_type": "stream",
     "text": [
      "Numbers: ['1', '2', '3', '4', '5', '7', '8', '9']\n",
      "Positions: [5, 6, 7, 14, 15, 21, 22, 23]\n"
     ]
    }
   ],
   "source": [
    "def separate_numbers_and_positions(input_string):\n",
    "    numbers = []\n",
    "    positions = []\n",
    "\n",
    "    for index, char in enumerate(input_string):\n",
    "        if char.isdigit():\n",
    "            numbers.append(char)\n",
    "            positions.append(index)\n",
    "\n",
    "    return numbers, positions\n",
    "\n",
    "if __name__ == \"__main__\":\n",
    "    sample_text = \"Hello123 World45! How789 are you?\"\n",
    "    numbers, positions = separate_numbers_and_positions(sample_text)\n",
    "\n",
    "    print(\"Numbers:\", numbers)\n",
    "    print(\"Positions:\", positions)\n"
   ]
  },
  {
   "cell_type": "markdown",
   "id": "b3531087",
   "metadata": {},
   "source": [
    "### Question 22- Write a regular expression in python program to extract maximum/largest numeric value from a string.\n",
    "**Sample Text:**  'My marks in each semester are: 947, 896, 926, 524, 734, 950, 642'  \n",
    "**Expected Output:** 950\n"
   ]
  },
  {
   "cell_type": "code",
   "execution_count": 36,
   "id": "0035a5eb",
   "metadata": {},
   "outputs": [
    {
     "name": "stdout",
     "output_type": "stream",
     "text": [
      "Maximum numeric value: 950\n"
     ]
    }
   ],
   "source": [
    "def extract_maximum_numeric_value(text):\n",
    "    numeric_values = [int(num) for num in re.findall(r'\\b\\d+\\b', text)]\n",
    "    return max(numeric_values)\n",
    "\n",
    "if __name__ == \"__main__\":\n",
    "    sample_text = 'My marks in each semester are: 947, 896, 926, 524, 734, 950, 642'\n",
    "    maximum_value = extract_maximum_numeric_value(sample_text)\n",
    "    print(\"Maximum numeric value:\", maximum_value)\n"
   ]
  },
  {
   "cell_type": "markdown",
   "id": "84ca7cd0",
   "metadata": {},
   "source": [
    "### Question 23- Create a function in python to insert spaces between words starting with capital letters.\n",
    "**Sample Text:** “RegularExpressionIsAnImportantTopicInPython\"  \n",
    "**Expected Output:** Regular Expression Is An Important Topic In Python\n"
   ]
  },
  {
   "cell_type": "code",
   "execution_count": 37,
   "id": "355bf694",
   "metadata": {},
   "outputs": [
    {
     "name": "stdout",
     "output_type": "stream",
     "text": [
      "Result: Regular Expression Is An Important Topic In Python\n"
     ]
    }
   ],
   "source": [
    "def insert_spaces_between_capital_words(text):\n",
    "    spaced_text = re.sub(r'(?<=[a-z])([A-Z])', r' \\1', text)\n",
    "    return spaced_text\n",
    "\n",
    "if __name__ == \"__main__\":\n",
    "    sample_text = \"RegularExpressionIsAnImportantTopicInPython\"\n",
    "    result = insert_spaces_between_capital_words(sample_text)\n",
    "    print(\"Result:\", result)\n"
   ]
  },
  {
   "cell_type": "markdown",
   "id": "51b16cbf",
   "metadata": {},
   "source": [
    "### Question 24- Python regex to find sequences of one upper case letter followed by lower case letters"
   ]
  },
  {
   "cell_type": "code",
   "execution_count": 38,
   "id": "a32a0822",
   "metadata": {},
   "outputs": [
    {
     "name": "stdout",
     "output_type": "stream",
     "text": [
      "Sequences of one upper case letter followed by lower case letters:\n",
      "['The', 'Quick', 'Brown', 'Fox', 'Jumps', 'Over', 'The', 'Lazy', 'Dog']\n"
     ]
    }
   ],
   "source": [
    "def find_uppercase_followed_by_lowercase(text):\n",
    "    pattern = re.compile(r'[A-Z][a-z]+')\n",
    "    sequences = pattern.findall(text)\n",
    "    return sequences\n",
    "\n",
    "if __name__ == \"__main__\":\n",
    "    sample_text = \"The Quick Brown Fox Jumps Over The Lazy Dog.\"\n",
    "    result = find_uppercase_followed_by_lowercase(sample_text)\n",
    "    print(\"Sequences of one upper case letter followed by lower case letters:\")\n",
    "    print(result)\n"
   ]
  },
  {
   "cell_type": "markdown",
   "id": "f1597889",
   "metadata": {},
   "source": [
    "### Question 25- Write a Python program to remove continuous duplicate words from Sentence using Regular Expression.\n",
    "**Sample Text:** \"Hello hello world world\"  \n",
    "**Expected Output:** Hello hello world\n"
   ]
  },
  {
   "cell_type": "code",
   "execution_count": 39,
   "id": "4f7aadf9",
   "metadata": {},
   "outputs": [
    {
     "name": "stdout",
     "output_type": "stream",
     "text": [
      "Cleaned Sentence: Hello world\n"
     ]
    }
   ],
   "source": [
    "def remove_continuous_duplicates(sentence):\n",
    "    pattern = re.compile(r'\\b(\\w+)(?: \\1\\b)+', re.IGNORECASE)\n",
    "    cleaned_sentence = pattern.sub(r'\\1', sentence)\n",
    "    return cleaned_sentence\n",
    "\n",
    "if __name__ == \"__main__\":\n",
    "    sample_text = \"Hello hello world world\"\n",
    "    result = remove_continuous_duplicates(sample_text)\n",
    "    print(\"Cleaned Sentence:\", result)\n"
   ]
  },
  {
   "cell_type": "markdown",
   "id": "ecd365ab",
   "metadata": {},
   "source": [
    "### Question 26-  Write a python program using RegEx to accept string ending with alphanumeric character."
   ]
  },
  {
   "cell_type": "code",
   "execution_count": 40,
   "id": "6c9fcf8b",
   "metadata": {},
   "outputs": [
    {
     "name": "stdout",
     "output_type": "stream",
     "text": [
      "String ends with an alphanumeric character.\n"
     ]
    }
   ],
   "source": [
    "def is_string_ending_with_alphanumeric(input_string):\n",
    "    pattern = re.compile(r'^.*[a-zA-Z0-9]$')\n",
    "    return bool(pattern.match(input_string))\n",
    "\n",
    "if __name__ == \"__main__\":\n",
    "    sample_text = \"Hello123\"\n",
    "    if is_string_ending_with_alphanumeric(sample_text):\n",
    "        print(\"String ends with an alphanumeric character.\")\n",
    "    else:\n",
    "        print(\"String does not end with an alphanumeric character.\")\n"
   ]
  },
  {
   "cell_type": "markdown",
   "id": "bd7f9b00",
   "metadata": {},
   "source": [
    "### Question 27-Write a python program using RegEx to extract the hashtags.\n",
    "**Sample Text:**  \"\"\"RT @kapil_kausik: #Doltiwal I mean #xyzabc is \"hurt\" by #Demonetization as the same has rendered USELESS <ed><U+00A0><U+00BD><ed><U+00B1><U+0089> \"acquired funds\" No wo\"\"\"  \n",
    "**Expected Output:** ['#Doltiwal', '#xyzabc', '#Demonetization']\n"
   ]
  },
  {
   "cell_type": "code",
   "execution_count": 41,
   "id": "a26d892f",
   "metadata": {},
   "outputs": [
    {
     "name": "stdout",
     "output_type": "stream",
     "text": [
      "Extracted Hashtags: ['#Doltiwal', '#xyzabc', '#Demonetization']\n"
     ]
    }
   ],
   "source": [
    "def extract_hashtags(text):\n",
    "    pattern = re.compile(r'#\\w+')\n",
    "    hashtags = pattern.findall(text)\n",
    "    return hashtags\n",
    "\n",
    "if __name__ == \"__main__\":\n",
    "    sample_text = \"\"\"RT @kapil_kausik: #Doltiwal I mean #xyzabc is \"hurt\" by #Demonetization as the same has rendered USELESS <ed><U+00A0><U+00BD><ed><U+00B1><U+0089> \"acquired funds\" No wo\"\"\"\n",
    "    result = extract_hashtags(sample_text)\n",
    "    print(\"Extracted Hashtags:\", result)\n"
   ]
  },
  {
   "cell_type": "markdown",
   "id": "783e3fdd",
   "metadata": {},
   "source": [
    "### Question 28- Write a python program using RegEx to remove <U+..> like symbols\n",
    "Check the below sample text, there are strange symbols something of the sort <U+..> all over the place. You need to come up with a general Regex expression that will cover all such symbols.  \n",
    "**Sample Text:** \"@Jags123456 Bharat band on 28??<ed><U+00A0><U+00BD><ed><U+00B8><U+0082>Those who  are protesting #demonetization  are all different party leaders\"  \n",
    "**Expected Output:** @Jags123456 Bharat band on 28??<ed><ed>Those who  are protesting #demonetization  are all different party leaders\n"
   ]
  },
  {
   "cell_type": "code",
   "execution_count": 42,
   "id": "9a4e11a5",
   "metadata": {},
   "outputs": [
    {
     "name": "stdout",
     "output_type": "stream",
     "text": [
      "Cleaned Text: @Jags123456 Bharat band on 28??<ed><ed>Those who  are protesting #demonetization  are all different party leaders\n"
     ]
    }
   ],
   "source": [
    "def remove_U_plus_symbols(text):\n",
    "    pattern = re.compile(r'<U\\+[0-9A-Fa-f]+>')\n",
    "    cleaned_text = pattern.sub('', text)\n",
    "    return cleaned_text\n",
    "\n",
    "if __name__ == \"__main__\":\n",
    "    sample_text = \"@Jags123456 Bharat band on 28??<ed><U+00A0><U+00BD><ed><U+00B8><U+0082>Those who  are protesting #demonetization  are all different party leaders\"\n",
    "    result = remove_U_plus_symbols(sample_text)\n",
    "    print(\"Cleaned Text:\", result)\n"
   ]
  },
  {
   "cell_type": "markdown",
   "id": "28243429",
   "metadata": {},
   "source": [
    "### Question 29- Write a python program to extract dates from the text stored in the text file.\n",
    "**Sample Text:** Ron was born on 12-09-1992 and he was admitted to school 15-12-1999.  \n",
    "**Note-** Store this sample text in the file and then extract dates.\n"
   ]
  },
  {
   "cell_type": "code",
   "execution_count": 43,
   "id": "4e2ede1b",
   "metadata": {},
   "outputs": [
    {
     "ename": "FileNotFoundError",
     "evalue": "[Errno 2] No such file or directory: 'sample_text.txt'",
     "output_type": "error",
     "traceback": [
      "\u001b[1;31m---------------------------------------------------------------------------\u001b[0m",
      "\u001b[1;31mFileNotFoundError\u001b[0m                         Traceback (most recent call last)",
      "Cell \u001b[1;32mIn[43], line 11\u001b[0m\n\u001b[0;32m      9\u001b[0m \u001b[38;5;28;01mif\u001b[39;00m \u001b[38;5;18m__name__\u001b[39m \u001b[38;5;241m==\u001b[39m \u001b[38;5;124m\"\u001b[39m\u001b[38;5;124m__main__\u001b[39m\u001b[38;5;124m\"\u001b[39m:\n\u001b[0;32m     10\u001b[0m     file_path \u001b[38;5;241m=\u001b[39m \u001b[38;5;124m\"\u001b[39m\u001b[38;5;124msample_text.txt\u001b[39m\u001b[38;5;124m\"\u001b[39m\n\u001b[1;32m---> 11\u001b[0m     dates \u001b[38;5;241m=\u001b[39m \u001b[43mextract_dates_from_file\u001b[49m\u001b[43m(\u001b[49m\u001b[43mfile_path\u001b[49m\u001b[43m)\u001b[49m\n\u001b[0;32m     12\u001b[0m     \u001b[38;5;28mprint\u001b[39m(\u001b[38;5;124m\"\u001b[39m\u001b[38;5;124mExtracted Dates:\u001b[39m\u001b[38;5;124m\"\u001b[39m, dates)\n",
      "Cell \u001b[1;32mIn[43], line 2\u001b[0m, in \u001b[0;36mextract_dates_from_file\u001b[1;34m(file_path)\u001b[0m\n\u001b[0;32m      1\u001b[0m \u001b[38;5;28;01mdef\u001b[39;00m \u001b[38;5;21mextract_dates_from_file\u001b[39m(file_path):\n\u001b[1;32m----> 2\u001b[0m     \u001b[38;5;28;01mwith\u001b[39;00m \u001b[38;5;28;43mopen\u001b[39;49m\u001b[43m(\u001b[49m\u001b[43mfile_path\u001b[49m\u001b[43m,\u001b[49m\u001b[43m \u001b[49m\u001b[38;5;124;43m'\u001b[39;49m\u001b[38;5;124;43mr\u001b[39;49m\u001b[38;5;124;43m'\u001b[39;49m\u001b[43m)\u001b[49m \u001b[38;5;28;01mas\u001b[39;00m file:\n\u001b[0;32m      3\u001b[0m         text \u001b[38;5;241m=\u001b[39m file\u001b[38;5;241m.\u001b[39mread()\n\u001b[0;32m      5\u001b[0m     pattern \u001b[38;5;241m=\u001b[39m re\u001b[38;5;241m.\u001b[39mcompile(\u001b[38;5;124mr\u001b[39m\u001b[38;5;124m'\u001b[39m\u001b[38;5;124m\\\u001b[39m\u001b[38;5;124mb\u001b[39m\u001b[38;5;124m\\\u001b[39m\u001b[38;5;124md\u001b[39m\u001b[38;5;132;01m{2}\u001b[39;00m\u001b[38;5;124m-\u001b[39m\u001b[38;5;124m\\\u001b[39m\u001b[38;5;124md\u001b[39m\u001b[38;5;132;01m{2}\u001b[39;00m\u001b[38;5;124m-\u001b[39m\u001b[38;5;124m\\\u001b[39m\u001b[38;5;124md\u001b[39m\u001b[38;5;132;01m{4}\u001b[39;00m\u001b[38;5;124m\\\u001b[39m\u001b[38;5;124mb\u001b[39m\u001b[38;5;124m'\u001b[39m)\n",
      "File \u001b[1;32mC:\\ProgramData\\anaconda3\\lib\\site-packages\\IPython\\core\\interactiveshell.py:282\u001b[0m, in \u001b[0;36m_modified_open\u001b[1;34m(file, *args, **kwargs)\u001b[0m\n\u001b[0;32m    275\u001b[0m \u001b[38;5;28;01mif\u001b[39;00m file \u001b[38;5;129;01min\u001b[39;00m {\u001b[38;5;241m0\u001b[39m, \u001b[38;5;241m1\u001b[39m, \u001b[38;5;241m2\u001b[39m}:\n\u001b[0;32m    276\u001b[0m     \u001b[38;5;28;01mraise\u001b[39;00m \u001b[38;5;167;01mValueError\u001b[39;00m(\n\u001b[0;32m    277\u001b[0m         \u001b[38;5;124mf\u001b[39m\u001b[38;5;124m\"\u001b[39m\u001b[38;5;124mIPython won\u001b[39m\u001b[38;5;124m'\u001b[39m\u001b[38;5;124mt let you open fd=\u001b[39m\u001b[38;5;132;01m{\u001b[39;00mfile\u001b[38;5;132;01m}\u001b[39;00m\u001b[38;5;124m by default \u001b[39m\u001b[38;5;124m\"\u001b[39m\n\u001b[0;32m    278\u001b[0m         \u001b[38;5;124m\"\u001b[39m\u001b[38;5;124mas it is likely to crash IPython. If you know what you are doing, \u001b[39m\u001b[38;5;124m\"\u001b[39m\n\u001b[0;32m    279\u001b[0m         \u001b[38;5;124m\"\u001b[39m\u001b[38;5;124myou can use builtins\u001b[39m\u001b[38;5;124m'\u001b[39m\u001b[38;5;124m open.\u001b[39m\u001b[38;5;124m\"\u001b[39m\n\u001b[0;32m    280\u001b[0m     )\n\u001b[1;32m--> 282\u001b[0m \u001b[38;5;28;01mreturn\u001b[39;00m io_open(file, \u001b[38;5;241m*\u001b[39margs, \u001b[38;5;241m*\u001b[39m\u001b[38;5;241m*\u001b[39mkwargs)\n",
      "\u001b[1;31mFileNotFoundError\u001b[0m: [Errno 2] No such file or directory: 'sample_text.txt'"
     ]
    }
   ],
   "source": [
    "def extract_dates_from_file(file_path):\n",
    "    with open(file_path, 'r') as file:\n",
    "        text = file.read()\n",
    "\n",
    "    pattern = re.compile(r'\\b\\d{2}-\\d{2}-\\d{4}\\b')\n",
    "    dates = pattern.findall(text)\n",
    "    return dates\n",
    "\n",
    "if __name__ == \"__main__\":\n",
    "    file_path = \"sample_text.txt\"\n",
    "    dates = extract_dates_from_file(file_path)\n",
    "    print(\"Extracted Dates:\", dates)\n"
   ]
  },
  {
   "cell_type": "markdown",
   "id": "715e7afb",
   "metadata": {},
   "source": [
    "### Question 30- Create a function in python to remove all words from a string of length between 2 and 4.\n",
    "The use of the re.compile() method is mandatory.  \n",
    "**Sample Text:** \"The following example creates an ArrayList with a capacity of 50 elements. 4 elements are then added to the ArrayList and the ArrayList is trimmed accordingly.\"  \n",
    "**Expected Output:**  following example creates ArrayList a capacity elements. 4 elements added ArrayList ArrayList trimmed accordingly.\n"
   ]
  },
  {
   "cell_type": "code",
   "execution_count": 44,
   "id": "536bcd82",
   "metadata": {},
   "outputs": [
    {
     "name": "stdout",
     "output_type": "stream",
     "text": [
      "Cleaned Text:  following example creates  ArrayList  a capacity   elements. 4 elements   added   ArrayList   ArrayList  trimmed accordingly.\n"
     ]
    }
   ],
   "source": [
    "def remove_words_between_length(text):\n",
    "    pattern = re.compile(r'\\b\\w{2,4}\\b')\n",
    "    cleaned_text = pattern.sub('', text)\n",
    "    return cleaned_text\n",
    "\n",
    "if __name__ == \"__main__\":\n",
    "    sample_text = \"The following example creates an ArrayList with a capacity of 50 elements. 4 elements are then added to the ArrayList and the ArrayList is trimmed accordingly.\"\n",
    "    result = remove_words_between_length(sample_text)\n",
    "    print(\"Cleaned Text:\", result)\n"
   ]
  },
  {
   "cell_type": "code",
   "execution_count": null,
   "id": "cb11dcf5",
   "metadata": {},
   "outputs": [],
   "source": []
  }
 ],
 "metadata": {
  "kernelspec": {
   "display_name": "Python 3 (ipykernel)",
   "language": "python",
   "name": "python3"
  },
  "language_info": {
   "codemirror_mode": {
    "name": "ipython",
    "version": 3
   },
   "file_extension": ".py",
   "mimetype": "text/x-python",
   "name": "python",
   "nbconvert_exporter": "python",
   "pygments_lexer": "ipython3",
   "version": "3.10.9"
  }
 },
 "nbformat": 4,
 "nbformat_minor": 5
}
