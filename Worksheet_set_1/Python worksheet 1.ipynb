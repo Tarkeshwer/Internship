{
 "cells": [
  {
   "cell_type": "markdown",
   "id": "16cda72f",
   "metadata": {},
   "source": [
    "### 1. Which of the following operators is used to calculate remainder in a division?\n",
    "**Ans:** C) %"
   ]
  },
  {
   "cell_type": "markdown",
   "id": "9d897421",
   "metadata": {},
   "source": [
    "### 2. In python 2//3 is equal to?\n",
    "**Ans:** B) 0"
   ]
  },
  {
   "cell_type": "code",
   "execution_count": 2,
   "id": "a3ba25e2",
   "metadata": {},
   "outputs": [
    {
     "data": {
      "text/plain": [
       "0"
      ]
     },
     "execution_count": 2,
     "metadata": {},
     "output_type": "execute_result"
    }
   ],
   "source": [
    "2//3"
   ]
  },
  {
   "cell_type": "markdown",
   "id": "babe5391",
   "metadata": {},
   "source": [
    "### 3. In python, 6<<2 is equal to?\n",
    "**Ans:** C) 24"
   ]
  },
  {
   "cell_type": "code",
   "execution_count": 3,
   "id": "d6bf5061",
   "metadata": {},
   "outputs": [
    {
     "data": {
      "text/plain": [
       "24"
      ]
     },
     "execution_count": 3,
     "metadata": {},
     "output_type": "execute_result"
    }
   ],
   "source": [
    "6<<2 "
   ]
  },
  {
   "cell_type": "markdown",
   "id": "4b06456b",
   "metadata": {},
   "source": [
    "### 4. In python, 6&2 will give which of the following as output?\n",
    "**Ans:** A) 2"
   ]
  },
  {
   "cell_type": "code",
   "execution_count": 5,
   "id": "4d9d2e5a",
   "metadata": {},
   "outputs": [
    {
     "data": {
      "text/plain": [
       "2"
      ]
     },
     "execution_count": 5,
     "metadata": {},
     "output_type": "execute_result"
    }
   ],
   "source": [
    "6 & 2"
   ]
  },
  {
   "cell_type": "markdown",
   "id": "dcec084d",
   "metadata": {},
   "source": [
    "### 5. In python, 6|2 will give which of the following as output?\n",
    "**Ans:** D) 6"
   ]
  },
  {
   "cell_type": "code",
   "execution_count": 7,
   "id": "a03cff9d",
   "metadata": {},
   "outputs": [
    {
     "data": {
      "text/plain": [
       "6"
      ]
     },
     "execution_count": 7,
     "metadata": {},
     "output_type": "execute_result"
    }
   ],
   "source": [
    "6 | 2"
   ]
  },
  {
   "cell_type": "markdown",
   "id": "63bcbf66",
   "metadata": {},
   "source": [
    "### 6. What does the finally keyword denotes in python?\n",
    "**Ans:** C) the finally block will be executed no matter if the try block raises an error or not."
   ]
  },
  {
   "cell_type": "markdown",
   "id": "627ac7f3",
   "metadata": {},
   "source": [
    "### 7. What does raise keyword is used for in python?\n",
    "**Ans:** A) It is used to raise an exception."
   ]
  },
  {
   "cell_type": "markdown",
   "id": "d9544712",
   "metadata": {},
   "source": [
    "### 8. Which of the following is a common use case of yield keyword in python?\n",
    "**Ans:** C) in defining a generator"
   ]
  },
  {
   "cell_type": "markdown",
   "id": "22a9ff3c",
   "metadata": {},
   "source": [
    "### 9. Which of the following are the valid variable names?\n",
    "**Ans:** A) _abc & \n",
    "         C) abc2"
   ]
  },
  {
   "cell_type": "markdown",
   "id": "f9b4481d",
   "metadata": {},
   "source": [
    "### 10. Which of the following are the keywords in python?\n",
    "**Ans:** A) yield & \n",
    "B) raise"
   ]
  },
  {
   "cell_type": "markdown",
   "id": "3f40301f",
   "metadata": {},
   "source": [
    "### 11. Write a python program to find the factorial of a number."
   ]
  },
  {
   "cell_type": "code",
   "execution_count": 12,
   "id": "a4e24295",
   "metadata": {},
   "outputs": [
    {
     "name": "stdout",
     "output_type": "stream",
     "text": [
      "Enter a number: 5\n",
      "The factorial of 5 is 120\n"
     ]
    }
   ],
   "source": [
    "def factorial_number(n):\n",
    "    if n < 0:\n",
    "        return None\n",
    "    if n == 0 or n == 1:\n",
    "        return 1\n",
    "    factorial = 1\n",
    "    for i in range(2, n + 1):\n",
    "        factorial *= i\n",
    "    return factorial\n",
    "\n",
    "number = int(input(\"Enter a number: \"))\n",
    "result = factorial_number(number)\n",
    "if result is not None:\n",
    "    print(f\"The factorial of {number} is {result}\")\n",
    "else:\n",
    "    print(\"Factorial is not defined for negative numbers\")\n"
   ]
  },
  {
   "cell_type": "markdown",
   "id": "0f3d9d53",
   "metadata": {},
   "source": [
    "### 12. Write a python program to find whether a number is prime or composite."
   ]
  },
  {
   "cell_type": "code",
   "execution_count": 14,
   "id": "bdbc5fd7",
   "metadata": {},
   "outputs": [
    {
     "name": "stdout",
     "output_type": "stream",
     "text": [
      "Enter a number: 4\n",
      "4 is a composite number.\n"
     ]
    }
   ],
   "source": [
    "def is_prime(number):\n",
    "    if number <= 1:\n",
    "        return False\n",
    "    if number <= 3:\n",
    "        return True\n",
    "    if number % 2 == 0 or number % 3 == 0:\n",
    "        return False\n",
    "    i = 5\n",
    "    while i * i <= number:\n",
    "        if number % i == 0 or number % (i + 2) == 0:\n",
    "            return False\n",
    "        i += 6\n",
    "    return True\n",
    "\n",
    "number = int(input(\"Enter a number: \"))\n",
    "if is_prime(number):\n",
    "    print(f\"{number} is a prime number.\")\n",
    "else:\n",
    "    print(f\"{number} is a composite number.\")\n"
   ]
  },
  {
   "cell_type": "markdown",
   "id": "1853b0da",
   "metadata": {},
   "source": [
    "### 13. Write a python program to check whether a given string is palindrome or not."
   ]
  },
  {
   "cell_type": "code",
   "execution_count": 22,
   "id": "700dc744",
   "metadata": {},
   "outputs": [
    {
     "name": "stdout",
     "output_type": "stream",
     "text": [
      "Enter a string: 6\n",
      "The string is a palindrome.\n"
     ]
    }
   ],
   "source": [
    "def is_palindrome(s):\n",
    "    s = s.lower()  # Convert the string to lowercase for case-insensitive comparison\n",
    "    s = ''.join(filter(str.isalnum, s))  # Remove non-alphanumeric characters\n",
    "    return s == s[::-1]\n",
    "\n",
    "input_string = input(\"Enter a string: \")\n",
    "if is_palindrome(input_string):\n",
    "    print(\"The string is a palindrome.\")\n",
    "else:\n",
    "    print(\"The string is not a palindrome.\")\n"
   ]
  },
  {
   "cell_type": "markdown",
   "id": "aa43aa34",
   "metadata": {},
   "source": [
    "### 14. Write a Python program to get the third side of right-angled triangle from two given sides."
   ]
  },
  {
   "cell_type": "code",
   "execution_count": 17,
   "id": "1a4a4a38",
   "metadata": {},
   "outputs": [
    {
     "name": "stdout",
     "output_type": "stream",
     "text": [
      "Enter the length of the first side: 5\n",
      "Enter the length of the second side: 5\n",
      "The length of the third side is: 7.07\n"
     ]
    }
   ],
   "source": [
    "def calculate_third_side(side1, side2):\n",
    "    third_side = (side1**2 + side2**2)**0.5\n",
    "    return third_side\n",
    "\n",
    "side1 = float(input(\"Enter the length of the first side: \"))\n",
    "side2 = float(input(\"Enter the length of the second side: \"))\n",
    "\n",
    "third_side = calculate_third_side(side1, side2)\n",
    "print(f\"The length of the third side is: {third_side:.2f}\")\n"
   ]
  },
  {
   "cell_type": "markdown",
   "id": "166f078a",
   "metadata": {},
   "source": [
    "### 15. Write a python program to print the frequency of each of the characters present in a given string."
   ]
  },
  {
   "cell_type": "code",
   "execution_count": 21,
   "id": "09d63da0",
   "metadata": {},
   "outputs": [
    {
     "name": "stdout",
     "output_type": "stream",
     "text": [
      "Enter a string: characters\n",
      "Character frequencies:\n",
      "'c': 2\n",
      "'h': 1\n",
      "'a': 2\n",
      "'r': 2\n",
      "'t': 1\n",
      "'e': 1\n",
      "'s': 1\n"
     ]
    }
   ],
   "source": [
    "def char_freq(string):\n",
    "    freq = {}\n",
    "    for char in string:\n",
    "        if char in freq:\n",
    "            freq[char] += 1\n",
    "        else:\n",
    "            freq[char] = 1\n",
    "    return freq\n",
    "\n",
    "input_string = input(\"Enter a string: \")\n",
    "frequency = char_freq(input_string)\n",
    "\n",
    "print(\"Character frequencies:\")\n",
    "for char, count in frequency.items():\n",
    "    print(f\"'{char}': {count}\")\n"
   ]
  }
 ],
 "metadata": {
  "kernelspec": {
   "display_name": "Python 3 (ipykernel)",
   "language": "python",
   "name": "python3"
  },
  "language_info": {
   "codemirror_mode": {
    "name": "ipython",
    "version": 3
   },
   "file_extension": ".py",
   "mimetype": "text/x-python",
   "name": "python",
   "nbconvert_exporter": "python",
   "pygments_lexer": "ipython3",
   "version": "3.10.9"
  }
 },
 "nbformat": 4,
 "nbformat_minor": 5
}
